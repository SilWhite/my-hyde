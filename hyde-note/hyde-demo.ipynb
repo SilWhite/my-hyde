{
 "cells": [
  {
   "cell_type": "markdown",
   "id": "c0a95872",
   "metadata": {},
   "source": [
    "# HyDE\n",
    "For a given query, HyDE retrieval pipeline contains 4 components:\n",
    "1. Promptor: bulid prompt for generator based on specific task.\n",
    "2. Generator: generates hypothesis documents using Large Language Model.\n",
    "3. Encoder: encode hypothesis documents to HyDE vector.\n",
    "4. Searcher: search nearest neighbour for the HyDE vector (dense retrieval)."
   ]
  },
  {
   "cell_type": "markdown",
   "id": "a1ee489b",
   "metadata": {},
   "source": [
    "### Initialize HyDE components\n",
    "We use [pyserini](https://github.com/castorini/pyserini) as the search interface."
   ]
  },
  {
   "cell_type": "code",
   "execution_count": 1,
   "id": "65c24913",
   "metadata": {},
   "outputs": [
    {
     "name": "stdout",
     "output_type": "stream",
     "text": [
      "1\n"
     ]
    },
    {
     "name": "stderr",
     "output_type": "stream",
     "text": [
      "WARNING: Using incubator modules: jdk.incubator.vector\n",
      "/root/miniconda3/envs/hyde-env/lib/python3.10/site-packages/tqdm/auto.py:21: TqdmWarning: IProgress not found. Please update jupyter and ipywidgets. See https://ipywidgets.readthedocs.io/en/stable/user_install.html\n",
      "  from .autonotebook import tqdm as notebook_tqdm\n"
     ]
    },
    {
     "name": "stdout",
     "output_type": "stream",
     "text": [
      "2\n",
      "3\n"
     ]
    }
   ],
   "source": [
    "import json\n",
    "print('1')\n",
    "from pyserini.search import FaissSearcher, LuceneSearcher\n",
    "print('2')\n",
    "from pyserini.search.faiss import AutoQueryEncoder\n",
    "print('3')\n",
    "\n",
    "# from hyde import Promptor, OpenAIGenerator, CohereGenerator, HyDE\n",
    "\n",
    "from hyde.promptor import Promptor\n",
    "from hyde.generator import DeepSeekGenerator\n",
    "from hyde.hyde import HyDE\n"
   ]
  },
  {
   "cell_type": "code",
   "execution_count": 2,
   "id": "dcb0db43",
   "metadata": {},
   "outputs": [
    {
     "name": "stdout",
     "output_type": "stream",
     "text": [
      "1\n",
      "2\n",
      "3\n",
      "4\n",
      "5\n"
     ]
    },
    {
     "name": "stderr",
     "output_type": "stream",
     "text": [
      "Oct 24, 2024 8:27:46 PM org.apache.lucene.store.MemorySegmentIndexInputProvider <init>\n",
      "INFO: Using MemorySegmentIndexInput with Java 21; to disable start with -Dorg.apache.lucene.store.MMapDirectory.enableMemorySegments=false\n"
     ]
    }
   ],
   "source": [
    "# KEY = '<api key>' # replace with your API key, it can be OpenAI api key or Cohere api key\n",
    "# use deepseek llm\n",
    "\n",
    "# KEY = 'sk-b0d1a733e4a44c4c91aaca082e3f9ed0'\n",
    "KEY='sk-77ca6e57c7324f31a7b5ef9fc6e9b29d'#help from friend\n",
    "model = 'deepseek-chat' # only one model of deepseek is supported for now\n",
    "\n",
    "promptor = Promptor('web search')\n",
    "print('1')\n",
    "# generator = OpenAIGenerator('text-davinci-003', KEY)\n",
    "generator = DeepSeekGenerator(model, KEY)\n",
    "print('2')\n",
    "# encoder = AutoQueryEncoder(encoder_dir='facebook/contriever', pooling='mean')\n",
    "encoder = AutoQueryEncoder(encoder_dir='/root/autodl-tmp/HuggingFace-Model/facebook-contriever', pooling='mean')\n",
    "print('3')\n",
    "searcher = FaissSearcher('/root/autodl-tmp/hyde/HyDE-redisplay/contriever_msmarco_index', encoder)\n",
    "print('4')\n",
    "# corpus = LuceneSearcher.from_prebuilt_index('msmarco-v1-passage')\n",
    "corpus = LuceneSearcher(index_dir='/root/autodl-tmp/localFile/lucene-inverted.msmarco-v1-passage.20221004.252b5e')\n",
    "print('5')"
   ]
  },
  {
   "cell_type": "markdown",
   "id": "d0fe1eb3",
   "metadata": {},
   "source": [
    "### Build a HyDE pipeline"
   ]
  },
  {
   "cell_type": "code",
   "execution_count": 3,
   "id": "ccacadc5",
   "metadata": {},
   "outputs": [],
   "source": [
    "hyde = HyDE(promptor, generator, encoder, searcher)"
   ]
  },
  {
   "cell_type": "markdown",
   "id": "1ee99483",
   "metadata": {},
   "source": [
    "### Load example Query"
   ]
  },
  {
   "cell_type": "code",
   "execution_count": 4,
   "id": "b8d1a85c",
   "metadata": {},
   "outputs": [],
   "source": [
    "query = 'how long does it take to remove wisdom tooth'"
   ]
  },
  {
   "cell_type": "markdown",
   "id": "4c3be967",
   "metadata": {},
   "source": [
    "### Build Zeroshot Prompt"
   ]
  },
  {
   "cell_type": "code",
   "execution_count": 5,
   "id": "a6e0eecc",
   "metadata": {},
   "outputs": [
    {
     "name": "stdout",
     "output_type": "stream",
     "text": [
      "Please write a passage to answer the question.\n",
      "Question: how long does it take to remove wisdom tooth\n",
      "Passage:\n"
     ]
    }
   ],
   "source": [
    "prompt = hyde.prompt(query)\n",
    "print(prompt)"
   ]
  },
  {
   "cell_type": "markdown",
   "id": "1821d8b9",
   "metadata": {},
   "source": [
    "### Generate Hypothesis Documents"
   ]
  },
  {
   "cell_type": "code",
   "execution_count": 6,
   "id": "4032c2b7",
   "metadata": {},
   "outputs": [
    {
     "name": "stdout",
     "output_type": "stream",
     "text": [
      "HyDE Generated Document: 0\n",
      "The duration to remove a wisdom tooth can vary significantly depending on several factors, including the complexity of the extraction, the position of the tooth, and the patient's overall dental health. Generally, a straightforward wisdom tooth removal, where the tooth is fully erupted and easily accessible, can take as little as 15 to 30 minutes. However, if the tooth is impacted, meaning it is trapped beneath the gum or bone, the procedure can be more involved and may require additional time, commonly ranging from 45 minutes to an hour or more. In cases of severe impaction or complications, the extraction process could extend even further. Post-operative care and recovery time can also vary, typically lasting from a few days to a couple of weeks. It is important to consult with a dental professional for a personalized assessment and to understand the specific timeline for your particular case.\n"
     ]
    }
   ],
   "source": [
    "hypothesis_documents = hyde.generate(query)\n",
    "for i, doc in enumerate(hypothesis_documents):\n",
    "    print(f'HyDE Generated Document: {i}')\n",
    "    print(doc.strip())"
   ]
  },
  {
   "cell_type": "markdown",
   "id": "022a4cd8",
   "metadata": {},
   "source": [
    "### Encode HyDE vector"
   ]
  },
  {
   "cell_type": "code",
   "execution_count": 25,
   "id": "cdb4e5b9",
   "metadata": {},
   "outputs": [
    {
     "name": "stdout",
     "output_type": "stream",
     "text": [
      "(1, 768)\n"
     ]
    }
   ],
   "source": [
    "hyde_vector = hyde.encode(query, hypothesis_documents)\n",
    "print(hyde_vector.shape)"
   ]
  },
  {
   "cell_type": "markdown",
   "id": "fe95165a",
   "metadata": {},
   "source": [
    "### Search Relevant Documents"
   ]
  },
  {
   "cell_type": "code",
   "execution_count": 26,
   "id": "8ae97c0a",
   "metadata": {},
   "outputs": [
    {
     "name": "stdout",
     "output_type": "stream",
     "text": [
      "HyDE Retrieved Document: 0\n",
      "4155912\n",
      "How long does it take to remove all wisdom teeth?   I got my wisdom teeth removed 5 days ago. I received intravenous anesthesia, so I was not concious during the process, but those present said it only took about 35 to 40â¦ minutes for removal.\n",
      "HyDE Retrieved Document: 1\n",
      "4174313\n",
      "The time it takes to remove the tooth will vary. Some procedures only take a few minutes, whereas others can take 20 minutes or longer. After your wisdom teeth have been removed, you may experience swelling and discomfort, both on the inside and outside of your mouth.This is usually worse for the first three days, but it can last for up to two weeks. Read more about how a wisdom tooth is removed and recovering from wisdom tooth removal.he time it takes to remove the tooth will vary. Some procedures only take a few minutes, whereas others can take 20 minutes or longer. After your wisdom teeth have been removed, you may experience swelling and discomfort, both on the inside and outside of your mouth.\n",
      "HyDE Retrieved Document: 2\n",
      "7344529\n",
      "Complications like infection can lengthen the time it takes to heal up, but here is a general timeline: 1  Swelling and pain will be the greatest during the first 3 days (peaking at about 48hours). 2  Normally, the sockets should take about 2 weeks to 1 month to cover over with solid gum tissue after scabbing first.\n",
      "HyDE Retrieved Document: 3\n",
      "91493\n",
      "The time it takes to remove the tooth will vary. Some procedures only take a few minutes, whereas others can take 20 minutes or longer. After your wisdom teeth have been removed, you may experience swelling and discomfort, both on the inside and outside of your mouth. This is usually worse for the first three days, but it can last for up to two weeks. Read more about how a wisdom tooth is removed and recovering from wisdom tooth removal.\n",
      "HyDE Retrieved Document: 4\n",
      "8694161\n",
      "How long does it take to remove a wisdom tooth - Please tell me how long it takes for to get one wisdom tooth removed? Dependson difficulty. It depends on the age of the patient and the difficulty of the extraction. Surgical time only may be from 5-30 minutes/tooth.\n",
      "HyDE Retrieved Document: 5\n",
      "18103\n",
      "Before having your wisdom teeth removed, you'll be given an injection of local anaesthetic to numb the tooth and surrounding area. If you're particularly anxious about the procedure, your dentist or surgeon may give you a sedative to help you relax. This usually involves an injection into your arm.urgery to remove wisdom teeth shouldn't be painful, because the area will be numb. However, if you feel pain during the procedure, tell your dentist or oral surgeon so they can give you more anaesthetic. How long it takes to remove the tooth will vary.\n",
      "HyDE Retrieved Document: 6\n",
      "5598947\n",
      "How Much Does Wisdom Tooth Removal Cost? The cost of wisdom teeth extraction can vary depending on the procedureâs degree of difficulty: If the tooth has fully emerged from the gum and has simple roots it will require a local anesthetic and removal will cost about $75-$200 per tooth; Impacted wisdom teeth are more expensive to remove, extraction using a local anesthetic can cost $225-$600 per tooth. Using nitrous oxide $40-$90; or general anesthetic can add $250-$800 to the total cost. The cost of impacted wisdom teeth removal depends on how the tooth is impacted: 1  Soft tissue impaction â the tooth has partially erupted through the gum; the least expensive to remove. 2  Partial bony impaction â some of the tooth that should be above the gum line is encased in the jawbone; typically more expensive.\n",
      "HyDE Retrieved Document: 7\n",
      "8295909\n",
      "Of course, any discussion about the preferred age for extracting wisdom teeth implies that a decision can be made about the need for their removal in the first place. However, in some cases it takes additional time to determine if a particular tooth really is likely to remain impacted.\n",
      "HyDE Retrieved Document: 8\n",
      "4595795\n",
      "If you have a dentist remove your wisdom teeth, i can take between 20 minutes and three hours per tooth. If you get a surgeon to remove your wisdom teeth, it takes between 30 seconds and five minutes per tooth. An hour. But you can have fun with the knock out shot, if they offer it.\n",
      "HyDE Retrieved Document: 9\n",
      "2940185\n",
      "Normally, the sockets should take about 2 weeks to 1 month to cover over with solid gum tissue after scabbing first; the underlying bone will remodel and heal by roughly 6 months. Naturally, factors like post-op infection, the size of the 'hole,' etc. can play a role in how long it will take to heal.\n"
     ]
    }
   ],
   "source": [
    "hits = hyde.search(hyde_vector, k=10)\n",
    "for i, hit in enumerate(hits):\n",
    "    print(f'HyDE Retrieved Document: {i}')\n",
    "    print(hit.docid)\n",
    "    print(json.loads(corpus.doc(hit.docid).raw())['contents'])"
   ]
  },
  {
   "cell_type": "markdown",
   "id": "a2edb68c",
   "metadata": {},
   "source": [
    "### End to End Search\n",
    "\n",
    "e2e search will directly go through all the steps descripted above."
   ]
  },
  {
   "cell_type": "code",
   "execution_count": 27,
   "id": "47e9f353",
   "metadata": {},
   "outputs": [
    {
     "name": "stdout",
     "output_type": "stream",
     "text": [
      "HyDE Retrieved Document: 0\n",
      "4155912\n",
      "How long does it take to remove all wisdom teeth?   I got my wisdom teeth removed 5 days ago. I received intravenous anesthesia, so I was not concious during the process, but those present said it only took about 35 to 40â¦ minutes for removal.\n",
      "HyDE Retrieved Document: 1\n",
      "4174313\n",
      "The time it takes to remove the tooth will vary. Some procedures only take a few minutes, whereas others can take 20 minutes or longer. After your wisdom teeth have been removed, you may experience swelling and discomfort, both on the inside and outside of your mouth.This is usually worse for the first three days, but it can last for up to two weeks. Read more about how a wisdom tooth is removed and recovering from wisdom tooth removal.he time it takes to remove the tooth will vary. Some procedures only take a few minutes, whereas others can take 20 minutes or longer. After your wisdom teeth have been removed, you may experience swelling and discomfort, both on the inside and outside of your mouth.\n",
      "HyDE Retrieved Document: 2\n",
      "8295909\n",
      "Of course, any discussion about the preferred age for extracting wisdom teeth implies that a decision can be made about the need for their removal in the first place. However, in some cases it takes additional time to determine if a particular tooth really is likely to remain impacted.\n",
      "HyDE Retrieved Document: 3\n",
      "2940180\n",
      "You shouldn't even brush your teeth for the first day of recovery. According to the offices of practicing oral surgeon Dr. Joseph Arzadon of Arlington, Virginia, typical wisdom teeth recovery time is three to four days, although it can be as long as one week. The length of recovery depends a lot on how badly the wisdom teeth were impacted and how they were erupting.\n",
      "HyDE Retrieved Document: 4\n",
      "91493\n",
      "The time it takes to remove the tooth will vary. Some procedures only take a few minutes, whereas others can take 20 minutes or longer. After your wisdom teeth have been removed, you may experience swelling and discomfort, both on the inside and outside of your mouth. This is usually worse for the first three days, but it can last for up to two weeks. Read more about how a wisdom tooth is removed and recovering from wisdom tooth removal.\n",
      "HyDE Retrieved Document: 5\n",
      "1139497\n",
      "This cost range does not include fees associated with sedation, X-rays, possible oral surgery necessities, or the proximity of the wisdom tooth to surrounding teeth and nerves.Extraction costs for impacted wisdom teeth are significantly higher than for erupted wisdom teeth.Depending on the type of dental insurance you have, insurance companies may provide a 15 percent reimbursement or up to a 50 percent absorption of the total procedure costs.isdom teeth removal is a fairly common oral surgery. However, the removal of wisdom teeth prior to eruption involves a surgical procedure that is far from a simple tooth extraction.\n",
      "HyDE Retrieved Document: 6\n",
      "7344529\n",
      "Complications like infection can lengthen the time it takes to heal up, but here is a general timeline: 1  Swelling and pain will be the greatest during the first 3 days (peaking at about 48hours). 2  Normally, the sockets should take about 2 weeks to 1 month to cover over with solid gum tissue after scabbing first.\n",
      "HyDE Retrieved Document: 7\n",
      "2940185\n",
      "Normally, the sockets should take about 2 weeks to 1 month to cover over with solid gum tissue after scabbing first; the underlying bone will remodel and heal by roughly 6 months. Naturally, factors like post-op infection, the size of the 'hole,' etc. can play a role in how long it will take to heal.\n",
      "HyDE Retrieved Document: 8\n",
      "5598947\n",
      "How Much Does Wisdom Tooth Removal Cost? The cost of wisdom teeth extraction can vary depending on the procedureâs degree of difficulty: If the tooth has fully emerged from the gum and has simple roots it will require a local anesthetic and removal will cost about $75-$200 per tooth; Impacted wisdom teeth are more expensive to remove, extraction using a local anesthetic can cost $225-$600 per tooth. Using nitrous oxide $40-$90; or general anesthetic can add $250-$800 to the total cost. The cost of impacted wisdom teeth removal depends on how the tooth is impacted: 1  Soft tissue impaction â the tooth has partially erupted through the gum; the least expensive to remove. 2  Partial bony impaction â some of the tooth that should be above the gum line is encased in the jawbone; typically more expensive.\n",
      "HyDE Retrieved Document: 9\n",
      "4595794\n",
      "If you have a dentist remove your wisdom teeth, i can take between 20 minutes and three hours per tooth. If you get a surgeon to remove your wisdom teeth, it takes between 30 seconds and five minutes per tooth. To find out more on wisdom teeth surgery and the approximate times on surgery as well as post-operative instructions, go to http://dentalimplantsaustralia.com/. Source(s): http://dentalimplantsaustralia.com/.\n"
     ]
    }
   ],
   "source": [
    "hits = hyde.e2e_search(query, k=10)\n",
    "for i, hit in enumerate(hits):\n",
    "    print(f'HyDE Retrieved Document: {i}')\n",
    "    print(hit.docid)\n",
    "    print(json.loads(corpus.doc(hit.docid).raw())['contents'])"
   ]
  },
  {
   "cell_type": "code",
   "execution_count": null,
   "id": "578d2ca9",
   "metadata": {},
   "outputs": [],
   "source": []
  }
 ],
 "metadata": {
  "kernelspec": {
   "display_name": "hyde-env",
   "language": "python",
   "name": "python3"
  },
  "language_info": {
   "codemirror_mode": {
    "name": "ipython",
    "version": 3
   },
   "file_extension": ".py",
   "mimetype": "text/x-python",
   "name": "python",
   "nbconvert_exporter": "python",
   "pygments_lexer": "ipython3",
   "version": "3.10.15"
  }
 },
 "nbformat": 4,
 "nbformat_minor": 5
}
